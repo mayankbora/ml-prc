{
 "cells": [
  {
   "cell_type": "code",
   "execution_count": 30,
   "metadata": {},
   "outputs": [],
   "source": [
    "import numpy as np\n",
    "import pandas as pd \n",
    "import matplotlib.pyplot as plt\n",
    "%matplotlib inline\n"
   ]
  },
  {
   "cell_type": "code",
   "execution_count": 31,
   "metadata": {},
   "outputs": [],
   "source": [
    "from sklearn import linear_model"
   ]
  },
  {
   "cell_type": "code",
   "execution_count": 32,
   "metadata": {},
   "outputs": [],
   "source": [
    "df=pd.read_csv('LinearRegression.csv')"
   ]
  },
  {
   "cell_type": "code",
   "execution_count": 33,
   "metadata": {},
   "outputs": [
    {
     "name": "stdout",
     "output_type": "stream",
     "text": [
      "<class 'pandas.core.frame.DataFrame'>\n",
      "RangeIndex: 300 entries, 0 to 299\n",
      "Data columns (total 2 columns):\n",
      "X    300 non-null int64\n",
      "Y    300 non-null float64\n",
      "dtypes: float64(1), int64(1)\n",
      "memory usage: 4.8 KB\n"
     ]
    }
   ],
   "source": [
    "df.info()"
   ]
  },
  {
   "cell_type": "code",
   "execution_count": 34,
   "metadata": {},
   "outputs": [
    {
     "data": {
      "text/html": [
       "<div>\n",
       "<style scoped>\n",
       "    .dataframe tbody tr th:only-of-type {\n",
       "        vertical-align: middle;\n",
       "    }\n",
       "\n",
       "    .dataframe tbody tr th {\n",
       "        vertical-align: top;\n",
       "    }\n",
       "\n",
       "    .dataframe thead th {\n",
       "        text-align: right;\n",
       "    }\n",
       "</style>\n",
       "<table border=\"1\" class=\"dataframe\">\n",
       "  <thead>\n",
       "    <tr style=\"text-align: right;\">\n",
       "      <th></th>\n",
       "      <th>X</th>\n",
       "      <th>Y</th>\n",
       "    </tr>\n",
       "  </thead>\n",
       "  <tbody>\n",
       "    <tr>\n",
       "      <th>0</th>\n",
       "      <td>1</td>\n",
       "      <td>3.888889</td>\n",
       "    </tr>\n",
       "    <tr>\n",
       "      <th>1</th>\n",
       "      <td>2</td>\n",
       "      <td>4.555556</td>\n",
       "    </tr>\n",
       "    <tr>\n",
       "      <th>2</th>\n",
       "      <td>3</td>\n",
       "      <td>5.222222</td>\n",
       "    </tr>\n",
       "    <tr>\n",
       "      <th>3</th>\n",
       "      <td>4</td>\n",
       "      <td>5.888889</td>\n",
       "    </tr>\n",
       "    <tr>\n",
       "      <th>4</th>\n",
       "      <td>5</td>\n",
       "      <td>6.555556</td>\n",
       "    </tr>\n",
       "  </tbody>\n",
       "</table>\n",
       "</div>"
      ],
      "text/plain": [
       "   X         Y\n",
       "0  1  3.888889\n",
       "1  2  4.555556\n",
       "2  3  5.222222\n",
       "3  4  5.888889\n",
       "4  5  6.555556"
      ]
     },
     "execution_count": 34,
     "metadata": {},
     "output_type": "execute_result"
    }
   ],
   "source": [
    "df.head()"
   ]
  },
  {
   "cell_type": "code",
   "execution_count": null,
   "metadata": {},
   "outputs": [],
   "source": []
  },
  {
   "cell_type": "code",
   "execution_count": 35,
   "metadata": {},
   "outputs": [],
   "source": [
    "reg=linear_model.LinearRegression()"
   ]
  },
  {
   "cell_type": "code",
   "execution_count": 36,
   "metadata": {},
   "outputs": [],
   "source": [
    "import seaborn as sns"
   ]
  },
  {
   "cell_type": "code",
   "execution_count": 37,
   "metadata": {},
   "outputs": [
    {
     "data": {
      "text/plain": [
       "<matplotlib.axes._subplots.AxesSubplot at 0xeca279b208>"
      ]
     },
     "execution_count": 37,
     "metadata": {},
     "output_type": "execute_result"
    },
    {
     "data": {
      "image/png": "[encoded data removed]",
      "text/plain": [
       "<Figure size 432x288 with 1 Axes>"
      ]
     },
     "metadata": {
      "needs_background": "light"
     },
     "output_type": "display_data"
    }
   ],
   "source": [
    "df.plot.scatter(x='X',y='Y',s=3,c='red',marker='^')"
   ]
  },
  {
   "cell_type": "code",
   "execution_count": 38,
   "metadata": {},
   "outputs": [],
   "source": [
    "reg=linear_model.LinearRegression()\n"
   ]
  },
  {
   "cell_type": "code",
   "execution_count": 39,
   "metadata": {},
   "outputs": [
    {
     "data": {
      "text/plain": [
       "LinearRegression(copy_X=True, fit_intercept=True, n_jobs=None, normalize=False)"
      ]
     },
     "execution_count": 39,
     "metadata": {},
     "output_type": "execute_result"
    }
   ],
   "source": [
    "reg.fit(df[['X']],df.Y)"
   ]
  },
  {
   "cell_type": "code",
   "execution_count": 53,
   "metadata": {},
   "outputs": [],
   "source": [
    "pred=reg.predict([[250]])"
   ]
  },
  {
   "cell_type": "code",
   "execution_count": 54,
   "metadata": {},
   "outputs": [
    {
     "data": {
      "text/plain": [
       "array([165.90002206])"
      ]
     },
     "execution_count": 54,
     "metadata": {},
     "output_type": "execute_result"
    }
   ],
   "source": [
    "pred"
   ]
  },
  {
   "cell_type": "code",
   "execution_count": 55,
   "metadata": {},
   "outputs": [
    {
     "name": "stdout",
     "output_type": "stream",
     "text": [
      "5.888799701613223\n"
     ]
    }
   ],
   "source": [
    "print(reg.intercept_)"
   ]
  },
  {
   "cell_type": "code",
   "execution_count": 56,
   "metadata": {},
   "outputs": [
    {
     "name": "stdout",
     "output_type": "stream",
     "text": [
      "[0.64004489]\n"
     ]
    }
   ],
   "source": [
    "print(reg.coef_)"
   ]
  },
  {
   "cell_type": "code",
   "execution_count": 47,
   "metadata": {},
   "outputs": [
    {
     "data": {
      "text/plain": [
       "(300, 2)"
      ]
     },
     "execution_count": 47,
     "metadata": {},
     "output_type": "execute_result"
    }
   ],
   "source": [
    "cb.shape"
   ]
  },
  {
   "cell_type": "code",
   "execution_count": 59,
   "metadata": {},
   "outputs": [
    {
     "data": {
      "text/plain": [
       "165.90002220161324"
      ]
     },
     "execution_count": 59,
     "metadata": {},
     "output_type": "execute_result"
    }
   ],
   "source": [
    "(250*0.64004489)+5.888799701613223"
   ]
  },
  {
   "cell_type": "code",
   "execution_count": 17,
   "metadata": {},
   "outputs": [
    {
     "data": {
      "text/plain": [
       "array([[  1.        ,   3.88888889,   2.        ,   4.55555556,\n",
       "          3.        ,   5.22222222,   4.        ,   5.88888889,\n",
       "          5.        ,   6.55555556,   6.        ,   7.22222222,\n",
       "          7.        ,   7.88888889,   8.        ,   8.55555556,\n",
       "          9.        ,   9.22222222,  10.        ,   9.88888889,\n",
       "         11.        ,  10.55555556,  12.        ,  11.22222222,\n",
       "         13.        ,  11.88888889,  14.        ,  12.55555556,\n",
       "         15.        ,  13.22222222,  16.        ,  13.88888889,\n",
       "         17.        ,  14.55555556,  18.        ,  15.22222222,\n",
       "         19.        ,  15.88888889,  20.        ,  16.55555556,\n",
       "         21.        ,  17.22222222,  22.        ,  17.88888889,\n",
       "         23.        ,  18.55555556,  24.        ,  19.22222222,\n",
       "         25.        ,  19.88888889,  26.        ,  20.55555556,\n",
       "         27.        ,  21.22222222,  28.        ,  21.88888889,\n",
       "         29.        ,  22.55555556,  30.        ,  23.22222222,\n",
       "         31.        ,  23.88888889,  32.        ,  24.55555556,\n",
       "         33.        ,  25.22222222,  34.        ,  25.88888889,\n",
       "         35.        ,  26.55555556,  36.        ,  27.22222222,\n",
       "         37.        ,  27.88888889,  38.        ,  28.55555556,\n",
       "         39.        ,  29.22222222,  40.        ,  29.88888889,\n",
       "         41.        ,  30.55555556,  42.        ,  31.22222222,\n",
       "         43.        ,  31.88888889,  44.        ,  32.55555556,\n",
       "         45.        ,  33.22222222,  46.        ,  33.88888889,\n",
       "         47.        ,  34.55555556,  48.        ,  35.22222222,\n",
       "         49.        ,  35.88888889,  50.        ,  36.55555556,\n",
       "         51.        ,  37.22222222,  52.        ,  37.88888889,\n",
       "         53.        ,  38.55555556,  54.        ,  39.22222222,\n",
       "         55.        ,  39.88888889,  56.        ,  40.55555556,\n",
       "         57.        ,  41.22222222,  58.        ,  41.88888889,\n",
       "         59.        ,  42.55555556,  60.        ,  43.22222222,\n",
       "         61.        ,  43.88888889,  62.        ,  44.55555556,\n",
       "         63.        ,  45.22222222,  64.        ,  45.88888889,\n",
       "         65.        ,  46.55555556,  66.        ,  47.22222222,\n",
       "         67.        ,  47.88888889,  68.        ,  48.55555556,\n",
       "         69.        ,  49.22222222,  70.        ,  49.88888889,\n",
       "         71.        ,  50.55555556,  72.        ,  51.22222222,\n",
       "         73.        ,  51.88888889,  74.        ,  52.55555556,\n",
       "         75.        ,  53.22222222,  76.        ,  53.88888889,\n",
       "         77.        ,  54.55555556,  78.        ,  55.22222222,\n",
       "         79.        ,  55.88888889,  80.        ,  56.55555556,\n",
       "         81.        ,  57.22222222,  82.        ,  57.88888889,\n",
       "         83.        ,  58.55555556,  84.        ,  59.22222222,\n",
       "         85.        ,  59.88888889,  86.        ,  60.55555556,\n",
       "         87.        ,  61.22222222,  88.        ,  61.88888889,\n",
       "         89.        ,  62.55555556,  90.        ,  63.22222222,\n",
       "         91.        ,  63.88888889,  92.        ,  64.55555556,\n",
       "         93.        ,  65.22222222,  94.        ,  65.88888889,\n",
       "         95.        ,  66.55555556,  96.        ,  67.22222222,\n",
       "         97.        ,  67.88888889,  98.        ,  68.55555556,\n",
       "         99.        ,  69.22222222, 100.        ,  69.88888889,\n",
       "        101.        ,  70.55555556, 102.        ,  71.22222222,\n",
       "        103.        ,  71.88888889, 104.        ,  72.55555556,\n",
       "        105.        ,  73.22222222, 106.        ,  73.88888889,\n",
       "        107.        ,  74.55555556, 108.        ,  75.22222222,\n",
       "        109.        ,  75.88888889, 110.        ,  76.55555556,\n",
       "        111.        ,  77.22222222, 112.        ,  77.88888889,\n",
       "        113.        ,  78.55555556, 114.        ,  79.22222222,\n",
       "        115.        ,  79.88888889, 116.        ,  80.55555556,\n",
       "        117.        ,  81.22222222, 118.        ,  81.88888889,\n",
       "        119.        ,  82.55555556, 120.        ,  83.22222222,\n",
       "        121.        ,  83.88888889, 122.        ,  84.55555556,\n",
       "        123.        ,  85.22222222, 124.        ,  85.88888889,\n",
       "        125.        ,  86.55555556, 126.        ,  87.22222222,\n",
       "        127.        ,  87.88888889, 128.        ,  88.55555556,\n",
       "        129.        ,  89.22222222, 130.        ,  89.88888889,\n",
       "        131.        ,  90.55555556, 132.        ,  91.22222222,\n",
       "        133.        ,  91.88888889, 134.        ,  92.55555556,\n",
       "        135.        ,  93.22222222, 136.        ,  93.88888889,\n",
       "        137.        ,  94.55555556, 138.        ,  95.22222222,\n",
       "        139.        ,  95.88888889, 140.        ,  96.55555556,\n",
       "        141.        ,  97.22222222, 142.        ,  97.88888889,\n",
       "        143.        ,  98.55555556, 144.        ,  99.22222222,\n",
       "        145.        ,  99.88888889, 146.        , 100.5555556 ,\n",
       "        147.        , 101.2222222 , 148.        , 101.8888889 ,\n",
       "        149.        , 102.5555556 , 150.        , 103.2222222 ,\n",
       "        151.        , 103.8888889 , 152.        , 104.5555556 ,\n",
       "        153.        , 105.2222222 , 154.        , 105.8888889 ,\n",
       "        155.        , 106.5555556 , 156.        , 107.2222222 ,\n",
       "        157.        , 107.8888889 , 158.        , 108.5555556 ,\n",
       "        159.        , 109.2222222 , 160.        , 109.8888889 ,\n",
       "        161.        , 110.5555556 , 162.        , 111.2222222 ,\n",
       "        163.        , 111.8888889 , 164.        , 112.5555556 ,\n",
       "        165.        , 113.2222222 , 166.        , 113.8888889 ,\n",
       "        167.        , 114.5555556 , 168.        , 115.2222222 ,\n",
       "        169.        , 115.8888889 , 170.        , 116.5555556 ,\n",
       "        171.        , 117.2222222 , 172.        , 117.8888889 ,\n",
       "        173.        , 118.5555556 , 174.        , 119.2222222 ,\n",
       "        175.        , 119.8888889 , 176.        , 120.5555556 ,\n",
       "        177.        , 121.2222222 , 178.        , 121.8888889 ,\n",
       "        179.        , 122.5555556 , 180.        , 123.2222222 ,\n",
       "        181.        , 123.8888889 , 182.        , 124.5555556 ,\n",
       "        183.        , 125.2222222 , 184.        , 125.8888889 ,\n",
       "        185.        , 126.5555556 , 186.        , 127.2222222 ,\n",
       "        187.        , 127.8888889 , 188.        , 128.5555556 ,\n",
       "        189.        , 129.2222222 , 190.        , 129.8888889 ,\n",
       "        191.        , 130.5555556 , 192.        , 131.2222222 ,\n",
       "        193.        , 131.8888889 , 194.        , 132.5555556 ,\n",
       "        195.        , 133.2222222 , 196.        , 133.8888889 ,\n",
       "        197.        , 134.5555556 , 198.        , 135.2222222 ,\n",
       "        199.        , 135.8888889 , 200.        , 136.5555556 ,\n",
       "        201.        , 137.2222222 , 202.        , 137.8888889 ,\n",
       "        203.        , 138.5555556 , 204.        , 139.2222222 ,\n",
       "        205.        , 139.8888889 , 206.        , 140.5555556 ,\n",
       "        207.        , 141.2222222 , 208.        , 141.8888889 ,\n",
       "        209.        , 142.5555556 , 210.        , 143.2222222 ,\n",
       "        211.        , 143.8888889 , 212.        , 144.5555556 ,\n",
       "        213.        , 145.2222222 , 214.        , 145.8888889 ,\n",
       "        215.        , 146.5555556 , 216.        , 147.2222222 ,\n",
       "        217.        , 147.8888889 , 218.        , 148.5555556 ,\n",
       "        219.        , 149.2222222 , 220.        , 149.8888889 ,\n",
       "        221.        , 150.5555556 , 222.        , 151.2222222 ,\n",
       "        223.        , 151.8888889 , 224.        , 152.5555556 ,\n",
       "        225.        , 153.2222222 , 226.        , 153.8888889 ,\n",
       "        227.        , 154.5555556 , 228.        , 155.2222222 ,\n",
       "        229.        , 155.8888889 , 230.        , 156.5555556 ,\n",
       "        231.        , 157.2222222 , 232.        , 157.8888889 ,\n",
       "        233.        , 158.5555556 , 234.        , 159.2222222 ,\n",
       "        235.        , 159.8888889 , 236.        , 160.5555556 ,\n",
       "        237.        , 161.2222222 , 238.        , 161.8888889 ,\n",
       "        239.        , 162.5555556 , 240.        , 163.2222222 ,\n",
       "        241.        , 163.8888889 , 242.        , 164.5555556 ,\n",
       "        243.        , 165.2222222 , 244.        , 165.8888889 ,\n",
       "        245.        , 166.5555556 , 246.        , 167.2222222 ,\n",
       "        247.        , 167.8888889 , 248.        , 168.5555556 ,\n",
       "        249.        , 169.2222222 , 250.        , 169.8888889 ,\n",
       "        251.        , 170.5555556 , 252.        , 171.2222222 ,\n",
       "        253.        , 171.8888889 , 254.        , 172.5555556 ,\n",
       "        255.        , 173.2222222 , 256.        , 173.8888889 ,\n",
       "        257.        , 174.5555556 , 258.        , 175.2222222 ,\n",
       "        259.        , 175.8888889 , 260.        , 176.5555556 ,\n",
       "        261.        , 177.2222222 , 262.        , 177.8888889 ,\n",
       "        263.        , 178.5555556 , 264.        , 179.2222222 ,\n",
       "        265.        , 179.8888889 , 266.        , 180.5555556 ,\n",
       "        267.        , 181.2222222 , 268.        , 181.8888889 ,\n",
       "        269.        , 182.5555556 , 270.        , 183.2222222 ,\n",
       "        271.        , 183.8888889 , 272.        , 184.5555556 ,\n",
       "        273.        , 185.2222222 , 274.        , 185.8888889 ,\n",
       "        275.        , 186.5555556 , 276.        , 187.2222222 ,\n",
       "        277.        , 187.8888889 , 278.        , 188.5555556 ,\n",
       "        279.        , 189.2222222 , 280.        , 189.8888889 ,\n",
       "        281.        , 190.5555556 , 282.        , 191.2222222 ,\n",
       "        283.        , 191.8888889 , 284.        , 192.5555556 ,\n",
       "        285.        , 193.2222222 , 286.        , 193.8888889 ,\n",
       "        287.        , 194.5555556 , 288.        , 195.2222222 ,\n",
       "        289.        , 195.8888889 , 290.        , 196.5555556 ,\n",
       "        291.        , 197.2222222 , 292.        , 197.8888889 ,\n",
       "        293.        , 198.5555556 , 294.        , 199.2222222 ,\n",
       "        295.        , 199.8888889 , 296.        , 200.5555556 ,\n",
       "        297.        , 201.2222222 , 298.        , 201.8888889 ,\n",
       "        299.        ,   1.88888889, 300.        ,   1.88888889]])"
      ]
     },
     "execution_count": 17,
     "metadata": {},
     "output_type": "execute_result"
    }
   ],
   "source": [
    "cb.reshape(1,-1)"
   ]
  },
  {
   "cell_type": "code",
   "execution_count": null,
   "metadata": {},
   "outputs": [],
   "source": []
  }
 ],
 "metadata": {
  "kernelspec": {
   "display_name": "Python 3",
   "language": "python",
   "name": "python3"
  },
  "language_info": {
   "codemirror_mode": {
    "name": "ipython",
    "version": 3
   },
   "file_extension": ".py",
   "mimetype": "text/x-python",
   "name": "python",
   "nbconvert_exporter": "python",
   "pygments_lexer": "ipython3",
   "version": "3.7.6"
  }
 },
 "nbformat": 4,
 "nbformat_minor": 2
}
