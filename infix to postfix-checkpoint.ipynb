{
 "cells": [
  {
   "cell_type": "code",
   "execution_count": 34,
   "metadata": {},
   "outputs": [
    {
     "name": "stdout",
     "output_type": "stream",
     "text": [
      "Enter infix expression(A+(C+D*F+T*A)*B/C)\n",
      "postfix expression: ACDF*+TA*+B*C/+\n"
     ]
    }
   ],
   "source": [
    "x=input('Enter infix expression')\n",
    "def intopost(x): \n",
    "    s=[] \n",
    "    out=''\n",
    "    for i in x:\n",
    "        if (i not in a):  \n",
    "            out+= i\n",
    "        elif (i==')'):\n",
    "            while (s[-1]!= '(' and s):\n",
    "                out+=s.pop()\n",
    "            s.pop()\n",
    "        elif (i=='('):  \n",
    "            s.append('(')    \n",
    "        else:\n",
    "            while (s[-1]!='(' and s and b[i]<=b[s[-1]]):\n",
    "                out+=s.pop()\n",
    "            s.append(i)\n",
    "    while (s):\n",
    "        out+=s.pop()\n",
    "    return out\n",
    "print('postfix expression:',intopost(x))\n",
    "\n",
    "a=set(['+', '-', '*', '/', '(', ')'])  \n",
    "b={'+':1, '-':1, '*':2, '/':2} "
   ]
  },
  {
   "cell_type": "code",
   "execution_count": 6,
   "metadata": {},
   "outputs": [
    {
     "name": "stdout",
     "output_type": "stream",
     "text": [
      "Enter the list of numbers: 77 33 44 11 88 22 66 55\n",
      "Sorted list:  ['11', '22', '33', '44', '55', '66', '77', '88']\n"
     ]
    }
   ],
   "source": [
    "\n",
    "def insertion_sort(l):\n",
    "    for i in range(1, len(l)):\n",
    "        temp = l[i]\n",
    "        j = i - 1\n",
    "        while (j >= 0 and temp < l[j]):\n",
    "            l[j + 1] = l[j]\n",
    "            j = j - 1\n",
    "        l[j + 1] = temp\n",
    " \n",
    " \n",
    "l = input('Enter the list of numbers: ')\n",
    "l=l.split()\n",
    "insertion_sort(l)\n",
    "print('Sorted list: ',l)"
   ]
  },
  {
   "cell_type": "code",
   "execution_count": 8,
   "metadata": {},
   "outputs": [
    {
     "name": "stdout",
     "output_type": "stream",
     "text": [
      "Enter number of elements : 5\n",
      "1\n",
      "3\n",
      "5\n",
      "87\n",
      "2\n",
      "Sorted array is:\n",
      "1\n",
      "2\n",
      "3\n",
      "5\n",
      "87\n"
     ]
    }
   ],
   "source": [
    "arr = []  \n",
    "n = int(input(\"Enter number of elements : \")) \n",
    "  \n",
    "for i in range(0, n): \n",
    "    ele = int(input()) \n",
    "  \n",
    "    arr.append(ele) \n",
    "\n",
    "n = len(arr)\n",
    "quickSort(arr, 0, n-1)\n",
    "\n",
    "def partition(arr, low, high):\n",
    "    i = (low-1)     \n",
    "    pivot = arr[high]     \n",
    " \n",
    "    for j in range(low, high):\n",
    "\n",
    "        if arr[j] <= pivot:\n",
    " \n",
    "        \n",
    "            i = i+1\n",
    "            arr[i], arr[j] = arr[j], arr[i]\n",
    " \n",
    "    arr[i+1], arr[high] = arr[high], arr[i+1]\n",
    "    return (i+1)\n",
    "\n",
    " \n",
    "def quickSort(arr, low, high):\n",
    "    if len(arr) == 1:\n",
    "        return arr\n",
    "    if low < high:\n",
    " \n",
    "        pi = partition(arr, low, high)\n",
    "\n",
    "        quickSort(arr, low, pi-1)\n",
    "        quickSort(arr, pi+1, high)\n",
    " \n",
    "     \n",
    "print(\"Sorted array is:\")\n",
    "for i in range(n):\n",
    "    print(\"%d\" % arr[i])\n",
    " "
   ]
  },
  {
   "cell_type": "code",
   "execution_count": 5,
   "metadata": {},
   "outputs": [
    {
     "name": "stdout",
     "output_type": "stream",
     "text": [
      "enter how many numbers you want to enter9\n",
      "56\n",
      "42\n",
      "1\n",
      "89\n",
      "100\n",
      "53\n",
      "20\n",
      "85\n",
      "69\n",
      "Sorted array is\n",
      "1\n",
      "20\n",
      "42\n",
      "53\n",
      "56\n",
      "69\n",
      "85\n",
      "89\n",
      "100\n"
     ]
    }
   ],
   "source": [
    "x=int(input(\"enter how many numbers you want to enter\"))\n",
    "arr=[]\n",
    "for i in range (0,x):\n",
    "    ele=int(input()) \n",
    "    arr.append(ele) \n",
    "\n",
    "heapSort(arr) \n",
    "n=len(arr)\n",
    "  \n",
    "def heapSort(arr): \n",
    "    n=len(arr) \n",
    "\n",
    "    for i in range(n // 2 - 1, -1, -1): \n",
    "        heapify(arr, n, i) \n",
    "    for i in range(n-1, 0, -1): \n",
    "        arr[i], arr[0] = arr[0], arr[i]   \n",
    "        heapify(arr, i, 0) \n",
    "\n",
    "def heapify(arr, n, i): \n",
    "    largest = i \n",
    "    l = 2 * i + 1     \n",
    "    r = 2 * i + 2     \n",
    "  \n",
    "    if l < n and arr[i] < arr[l]: \n",
    "        largest = l \n",
    "\n",
    "    if r < n and arr[largest] < arr[r]: \n",
    "        largest = r \n",
    "  \n",
    "    if largest != i: \n",
    "        arr[i],arr[largest] = arr[largest],arr[i]  \n",
    "  \n",
    "        heapify(arr, n, largest) \n",
    "\n",
    "print (\"array after Sorted is\") \n",
    "for i in range(n): \n",
    "    print (\"%d\" %arr[i]), \n"
   ]
  },
  {
   "cell_type": "code",
   "execution_count": null,
   "metadata": {},
   "outputs": [],
   "source": [
    " 12, 11, 13, 5, 6, 7"
   ]
  }
 ],
 "metadata": {
  "kernelspec": {
   "display_name": "Python 3",
   "language": "python",
   "name": "python3"
  },
  "language_info": {
   "codemirror_mode": {
    "name": "ipython",
    "version": 3
   },
   "file_extension": ".py",
   "mimetype": "text/x-python",
   "name": "python",
   "nbconvert_exporter": "python",
   "pygments_lexer": "ipython3",
   "version": "3.7.6"
  }
 },
 "nbformat": 4,
 "nbformat_minor": 4
}
