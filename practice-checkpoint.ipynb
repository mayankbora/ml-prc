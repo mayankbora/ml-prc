{
 "cells": [
  {
   "cell_type": "code",
   "execution_count": 25,
   "metadata": {},
   "outputs": [
    {
     "name": "stdout",
     "output_type": "stream",
     "text": [
      "enter the number24\n",
      "2\n",
      "3\n",
      "4\n",
      "4\n",
      "6\n",
      "6\n",
      "6\n",
      "8\n",
      "8\n",
      "8\n",
      "12\n",
      "12\n",
      "12\n",
      "12\n",
      "12\n",
      "24\n",
      "24\n",
      "24\n",
      "24\n",
      "24\n",
      "24\n"
     ]
    }
   ],
   "source": [
    "n=int(input(\"enter the number\"))\n",
    "l=[]\n",
    "for i in range (2,100):\n",
    "    if (n%i==0):\n",
    "        l.append(i)\n",
    "c=0\n",
    "for i in l:\n",
    "    for j in range (2,n):\n",
    "        if (i%j==0):\n",
    "            c=c+1\n",
    "            print (i)\n",
    "            \n",
    "        "
   ]
  },
  {
   "cell_type": "code",
   "execution_count": 11,
   "metadata": {},
   "outputs": [
    {
     "name": "stdout",
     "output_type": "stream",
     "text": [
      "enter side of tri5\n",
      "enter side of tri4\n",
      "enter side of tri3\n",
      "pythogores\n"
     ]
    }
   ],
   "source": [
    "import math\n",
    "a=int(input(\"enter side of tri\"))\n",
    "b=int(input(\"enter side of tri\"))\n",
    "c=int(input(\"enter side of tri\"))\n",
    "d=math.pow(a,2)\n",
    "e=math.pow(b,2)\n",
    "f=math.pow(c,2)\n",
    "\n",
    "if (a>b and a>c):\n",
    "    if (d==math.pow(b,2)+math.pow(c,2)):\n",
    "        print(\"pythogores\")\n",
    "    else:\n",
    "        print(\"not pythagores\")\n",
    "if (a<b and b>c):\n",
    "    if (e==math.pow(a,2)+math.pow(c,2)):\n",
    "        print(\"pythogores\")\n",
    "    else :\n",
    "        print(\"not pythagores\")     \n",
    "if (c>b and a<c):\n",
    "    if (math.pow(c,2)==math.pow(b,2)+math.pow(a,2)):\n",
    "        print(\"pythogores\")\n",
    "    else :\n",
    "        print(\"not pythagores\")        "
   ]
  },
  {
   "cell_type": "code",
   "execution_count": 52,
   "metadata": {},
   "outputs": [
    {
     "name": "stdout",
     "output_type": "stream",
     "text": [
      "enter the number of row5\n",
      " \n",
      "*\n",
      " \n",
      "*\n",
      "*\n",
      " \n",
      "*\n",
      "*\n",
      "*\n",
      " \n",
      "*\n",
      "*\n",
      "*\n",
      "*\n",
      " \n"
     ]
    }
   ],
   "source": [
    "n=int(input(\"enter the number of row\"))\n",
    "for i in range (n):\n",
    "    for j in range (i):\n",
    "        print (\"*\")\n",
    "    print(\" \")    "
   ]
  },
  {
   "cell_type": "code",
   "execution_count": 65,
   "metadata": {},
   "outputs": [
    {
     "name": "stdout",
     "output_type": "stream",
     "text": [
      "enter the number of row5\n",
      " \n",
      "*  \n",
      "* *  \n",
      "* * *  \n",
      "* * * *  \n"
     ]
    }
   ],
   "source": [
    "n =int(input(\"enter the number of row\"))\n",
    "for i in range(n):\n",
    "    for j in range(i):\n",
    "        print(\"*\", end=\" \")  \n",
    "    print(\" \")"
   ]
  },
  {
   "cell_type": "code",
   "execution_count": 17,
   "metadata": {},
   "outputs": [
    {
     "name": "stdout",
     "output_type": "stream",
     "text": [
      "enter the number of row5\n",
      "* * * * *  * * * *   * * *    * *     * "
     ]
    }
   ],
   "source": [
    "sp=0\n",
    "st=n\n",
    "n =int(input(\"enter the number of row\"))\n",
    "for i in range(n):\n",
    "    for j in range(sp): \n",
    "        print(end=\" \")\n",
    "    for k in range(st):\n",
    "        print(\"*\", end=\" \")     \n",
    "    sp=sp+1\n",
    "    st=st-1\n"
   ]
  },
  {
   "cell_type": "code",
   "execution_count": 15,
   "metadata": {},
   "outputs": [
    {
     "name": "stdout",
     "output_type": "stream",
     "text": [
      "enter the number of row5\n",
      "2\n",
      "    *  \n",
      "  * * *  \n",
      "* * * * *  \n",
      "  * * *  \n",
      "    *  \n"
     ]
    }
   ],
   "source": [
    "n =int(input(\"enter the number of row\"))\n",
    "sp=n//2\n",
    "st=1\n",
    "print (sp)\n",
    "for i in range (1,n+1):\n",
    "    for j in range (0,sp):\n",
    "        print (end=\"  \")\n",
    "    for k in range (0,st):\n",
    "        print (\"*\",end=\" \")\n",
    "    if (i<n/2):\n",
    "        sp-=1\n",
    "        st+=2\n",
    "    else:\n",
    "        sp+=1\n",
    "        st-=2\n",
    "    print (\" \")"
   ]
  },
  {
   "cell_type": "code",
   "execution_count": 30,
   "metadata": {},
   "outputs": [
    {
     "name": "stdout",
     "output_type": "stream",
     "text": [
      "enter the number of row5\n",
      "3 1 3\n",
      "2 3 2\n",
      "1 5 1\n",
      "2 3 2\n",
      "3 1 3\n"
     ]
    }
   ],
   "source": [
    "n =int(input(\"enter the number of row\"))\n",
    "st=(n//2)+1\n",
    "sp=1\n",
    "for i in range (1,n+1):\n",
    "    print(st,sp,st)\n",
    "    if (i<=(n//2)):\n",
    "        st-=1\n",
    "        sp+=2\n",
    "    else:\n",
    "        st+=1\n",
    "        sp-=2\n",
    "    "
   ]
  },
  {
   "cell_type": "code",
   "execution_count": 18,
   "metadata": {},
   "outputs": [
    {
     "name": "stdout",
     "output_type": "stream",
     "text": [
      "enter the number of row5\n",
      "*   * \n",
      " * *  \n",
      "  *   \n",
      " * *  \n",
      "*   * \n"
     ]
    }
   ],
   "source": [
    "n =int(input(\"enter the number of row\"))\n",
    "for i in range (1,n+1):\n",
    "    for j in range (1,n+1):\n",
    "        if (i==j or i+j==n+1):\n",
    "            print (\"*\",end=\"\")\n",
    "        else:\n",
    "            print(end=\" \")\n",
    "    print(\" \")   "
   ]
  },
  {
   "cell_type": "code",
   "execution_count": null,
   "metadata": {},
   "outputs": [],
   "source": []
  }
 ],
 "metadata": {
  "kernelspec": {
   "display_name": "Python 3",
   "language": "python",
   "name": "python3"
  },
  "language_info": {
   "codemirror_mode": {
    "name": "ipython",
    "version": 3
   },
   "file_extension": ".py",
   "mimetype": "text/x-python",
   "name": "python",
   "nbconvert_exporter": "python",
   "pygments_lexer": "ipython3",
   "version": "3.7.6"
  }
 },
 "nbformat": 4,
 "nbformat_minor": 4
}
